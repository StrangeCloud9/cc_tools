{
 "cells": [
  {
   "cell_type": "code",
   "execution_count": 2,
   "metadata": {},
   "outputs": [],
   "source": [
    "import cc_dat_utils\n",
    "import cc_data\n",
    "import json"
   ]
  },
  {
   "cell_type": "code",
   "execution_count": 32,
   "metadata": {},
   "outputs": [
    {
     "name": "stdout",
     "output_type": "stream",
     "text": [
      "{\"level_number\": 1, \"time\": 233, \"num_chips\": 5, \"map_title\": \"my chip challenge\", \"encoded_password\": [216, 216, 216, 216], \"map_hint\": \"hey, this is a useless hint\", \"upper_layer\": [1, 1, 1, 1, 1, 1], \"lower_layer\": [0, 0, 0, 0, 0, 0]}\n"
     ]
    }
   ],
   "source": [
    "data = {}\n",
    "data['level_number'] = 1\n",
    "data['time'] = 233\n",
    "data['num_chips'] = 5\n",
    "data['map_title'] = \"my chip challenge\"\n",
    "data['encoded_password'] = [216, 216, 216, 216]\n",
    "data['map_hint'] = \"hey, this is a useless hint\"\n",
    "data['upper_layer'] = [1,1,1,1,1,1]\n",
    "data['lower_layer'] = [0,0,0,0,0,0]\n",
    "json_data = json.dumps(data)\n",
    "print (json_data)"
   ]
  },
  {
   "cell_type": "code",
   "execution_count": 22,
   "metadata": {},
   "outputs": [
    {
     "name": "stdout",
     "output_type": "stream",
     "text": [
      "    Map Title Field (type=3)\n",
      "      title = 'my title'\n"
     ]
    }
   ],
   "source": [
    "map_title = cc_data.CCMapTitleField(\"my title\")\n",
    "print (map_title)"
   ]
  },
  {
   "cell_type": "code",
   "execution_count": 23,
   "metadata": {},
   "outputs": [
    {
     "name": "stdout",
     "output_type": "stream",
     "text": [
      "    Map Hint Field (type=7)\n",
      "      hint = 'hey, this is a useless hint'\n"
     ]
    }
   ],
   "source": [
    "map_hint = cc_data.CCMapHintField(data['map_hint'])\n",
    "print (map_hint)"
   ]
  },
  {
   "cell_type": "code",
   "execution_count": 24,
   "metadata": {},
   "outputs": [
    {
     "name": "stdout",
     "output_type": "stream",
     "text": [
      "    Encoded Password Field (type=6)\n",
      "      password = [216, 216, 216, 216]\n"
     ]
    }
   ],
   "source": [
    "encoded_password = cc_data.CCEncodedPasswordField(data['encoded_password'])\n",
    "print (encoded_password)"
   ]
  },
  {
   "cell_type": "code",
   "execution_count": 25,
   "metadata": {},
   "outputs": [],
   "source": [
    "#IMAGE(\"link\")\n",
    "cclevel = cc_data.CCLevel()"
   ]
  },
  {
   "cell_type": "code",
   "execution_count": 33,
   "metadata": {},
   "outputs": [],
   "source": [
    "cclevel.level_number = data['level_number']\n",
    "cclevel.time = data['time']\n",
    "cclevel.num_chips = data['num_chips']\n",
    "cclevel.upper_level = data['upper_layer']\n",
    "cclevel.lower_level = data['lower_layer']\n",
    "cclevel.add_field(map_title)\n",
    "cclevel.add_field(map_hint)\n",
    "cclevel.add_field(encoded_password)"
   ]
  },
  {
   "cell_type": "code",
   "execution_count": 34,
   "metadata": {},
   "outputs": [],
   "source": [
    "ccdata = cc_data.CCDataFile()\n",
    "ccdata.add_level(cclevel)"
   ]
  },
  {
   "cell_type": "code",
   "execution_count": 35,
   "metadata": {},
   "outputs": [],
   "source": [
    "dat_file_name = 'data/my_dat.dat'\n",
    "#dat_file = open(dat_file_name, 'w')\n",
    "dat = cc_dat_utils.write_cc_data_to_dat(ccdata, dat_file_name)"
   ]
  },
  {
   "cell_type": "code",
   "execution_count": null,
   "metadata": {},
   "outputs": [],
   "source": []
  }
 ],
 "metadata": {
  "kernelspec": {
   "display_name": "Python 3",
   "language": "python",
   "name": "python3"
  },
  "language_info": {
   "codemirror_mode": {
    "name": "ipython",
    "version": 3
   },
   "file_extension": ".py",
   "mimetype": "text/x-python",
   "name": "python",
   "nbconvert_exporter": "python",
   "pygments_lexer": "ipython3",
   "version": "3.6.5"
  }
 },
 "nbformat": 4,
 "nbformat_minor": 2
}
